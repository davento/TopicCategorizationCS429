{
 "cells": [
  {
   "cell_type": "code",
   "execution_count": 1,
   "id": "02e615d7",
   "metadata": {},
   "outputs": [],
   "source": [
    "import numpy as np\n",
    "import time\n",
    "import math \n",
    "from sklearn.model_selection import train_test_split"
   ]
  },
  {
   "cell_type": "code",
   "execution_count": 2,
   "id": "c0e6db79",
   "metadata": {},
   "outputs": [],
   "source": [
    "#reading and manipulating the data\n",
    "data = np.loadtxt(\"training.csv\", dtype='int', delimiter=\",\")"
   ]
  },
  {
   "cell_type": "code",
   "execution_count": 2,
   "id": "83eac575",
   "metadata": {},
   "outputs": [
    {
     "ename": "",
     "evalue": "",
     "output_type": "error",
     "traceback": [
      "\u001b[1;31mCanceled future for execute_request message before replies were done"
     ]
    },
    {
     "ename": "",
     "evalue": "",
     "output_type": "error",
     "traceback": [
      "\u001b[1;31mThe Kernel crashed while executing code in the the current cell or a previous cell. Please review the code in the cell(s) to identify a possible cause of the failure. Click <a href='https://aka.ms/vscodeJupyterKernelCrash'>here</a> for more info. View Jupyter <a href='command:jupyter.viewOutput'>log</a> for further details."
     ]
    }
   ],
   "source": [
    "data = np.load(\"training_data.npz\")[\"data\"]\n",
    "test = np.load(\"testing.npz\")[\"data\"]"
   ]
  },
  {
   "cell_type": "code",
   "execution_count": 3,
   "id": "7baf4653",
   "metadata": {},
   "outputs": [
    {
     "ename": "",
     "evalue": "",
     "output_type": "error",
     "traceback": [
      "\u001b[1;31mCanceled future for execute_request message before replies were done"
     ]
    },
    {
     "ename": "",
     "evalue": "",
     "output_type": "error",
     "traceback": [
      "\u001b[1;31mThe Kernel crashed while executing code in the the current cell or a previous cell. Please review the code in the cell(s) to identify a possible cause of the failure. Click <a href='https://aka.ms/vscodeJupyterKernelCrash'>here</a> for more info. View Jupyter <a href='command:jupyter.viewOutput'>log</a> for further details."
     ]
    }
   ],
   "source": [
    "X = data[:, 1:-1]\n",
    "Y = data[:, -1]\n",
    "\n",
    "xTrain, xVal, yTrain, yVal = train_test_split(X, Y, test_size=0.2, stratify=Y, random_state=42)"
   ]
  },
  {
   "cell_type": "code",
   "execution_count": 4,
   "id": "210fe9ab",
   "metadata": {},
   "outputs": [],
   "source": [
    "Y = open('newsgrouplabels.txt', 'r')\n",
    "classes = []\n",
    "#print(\"The classes are\")\n",
    "for line in Y:\n",
    "    y = line.split()\n",
    "    classes.append(y)\n",
    "    #print(y[1])"
   ]
  },
  {
   "cell_type": "code",
   "execution_count": 5,
   "id": "0666d9be",
   "metadata": {},
   "outputs": [],
   "source": [
    "vocabs = open('vocabulary.txt', 'r')\n",
    "vocabulary = []\n",
    "#print(\"The classes are\")\n",
    "for line in vocabs:\n",
    "    vocab = line.split()\n",
    "    vocabulary.append(vocab[0])\n",
    "    #print(vocab[0])"
   ]
  },
  {
   "cell_type": "code",
   "execution_count": 6,
   "id": "f1f00d03",
   "metadata": {},
   "outputs": [],
   "source": [
    "#calculating the prior probability P(Y)\n",
    "tCount = yTrain.size\n",
    "prior = []\n",
    "for i,j in classes:\n",
    "    vCount = 0\n",
    "    for k in yTrain:\n",
    "        if k == int(i):\n",
    "            vCount += 1\n",
    "    prior.append([int(i), vCount/tCount])\n",
    "    #print(\"Class\", i, j, \"probility is\", f\"{vCount}/{tCount} = {round(vCount/tCount, 2)}\")"
   ]
  },
  {
   "cell_type": "code",
   "execution_count": 7,
   "id": "46cd3da1",
   "metadata": {},
   "outputs": [],
   "source": [
    "vData = np.empty((0, xTrain.shape[1]), dtype=xTrain.dtype)\n",
    "for i,j in classes:\n",
    "    rowIndices = np.where(yTrain == int(i))[0]\n",
    "    vData = np.vstack((vData, np.sum(xTrain[rowIndices, :], axis=0)))"
   ]
  },
  {
   "cell_type": "code",
   "execution_count": 8,
   "id": "7681b70c",
   "metadata": {},
   "outputs": [],
   "source": [
    "#calculating likelihood of the vocabulary for each class P(X/Y)\n",
    "tWords = np.sum(vData, axis=1).reshape(-1, 1)\n",
    "vSize = len(vocabulary)\n",
    "beta = 1/tWords\n",
    "alpha = 1 + beta\n",
    "likelihoods = (vData + (alpha - 1)) / (tWords + ((alpha - 1) * vSize))"
   ]
  },
  {
   "cell_type": "code",
   "execution_count": 11,
   "id": "26d9c1c3",
   "metadata": {},
   "outputs": [],
   "source": [
    "import pandas as pd\n",
    "predict = np.argmax(np.log2(np.array(prior)[:,1]) + test[:, 1:] @ np.log2(likelihoods.T), axis=1) + 1\n",
    "predictions = pd.DataFrame(pd.DataFrame(predict))\n",
    "predictions.columns = [\"class\"]\n",
    "predictions.index = np.arange(1, len(predictions) + 1)\n",
    "predictions.set_index(pd.Index(range(12001, 12001 + len(predictions))), inplace=True)\n",
    "predictions.index.name='id'\n",
    "predictions.head()\n",
    "predictions.to_csv(\"predicions.csv\")"
   ]
  },
  {
   "cell_type": "code",
   "execution_count": 13,
   "id": "04152381",
   "metadata": {},
   "outputs": [],
   "source": [
    "predict = np.argmax(np.log2(np.array(prior)[:,1]) + xVal @ np.log2(likelihoods.T), axis=1) + 1"
   ]
  },
  {
   "cell_type": "code",
   "execution_count": 16,
   "id": "b1e9b5cc",
   "metadata": {},
   "outputs": [],
   "source": [
    "accuracy = round(np.mean(predict == yVal), 2)"
   ]
  },
  {
   "cell_type": "code",
   "execution_count": 17,
   "id": "5e262503",
   "metadata": {},
   "outputs": [
    {
     "data": {
      "text/plain": [
       "0.87"
      ]
     },
     "execution_count": 17,
     "metadata": {},
     "output_type": "execute_result"
    }
   ],
   "source": [
    "accuracy"
   ]
  }
 ],
 "metadata": {
  "kernelspec": {
   "display_name": "Python 3 (ipykernel)",
   "language": "python",
   "name": "python3"
  },
  "language_info": {
   "codemirror_mode": {
    "name": "ipython",
    "version": 3
   },
   "file_extension": ".py",
   "mimetype": "text/x-python",
   "name": "python",
   "nbconvert_exporter": "python",
   "pygments_lexer": "ipython3",
   "version": "3.11.0"
  }
 },
 "nbformat": 4,
 "nbformat_minor": 5
}

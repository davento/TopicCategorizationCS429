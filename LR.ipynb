{
 "cells": [
  {
   "cell_type": "code",
   "execution_count": 1,
   "id": "bb9f0d20",
   "metadata": {},
   "outputs": [],
   "source": [
    "import numpy as np\n",
    "from sklearn.model_selection import train_test_split\n",
    "from sklearn.preprocessing import OneHotEncoder\n",
    "from scipy.sparse import csr_matrix\n",
    "from tqdm import tqdm\n",
    "from sklearn.preprocessing import StandardScaler\n",
    "from scipy.sparse import hstack"
   ]
  },
  {
   "cell_type": "code",
   "execution_count": 2,
   "id": "faf8de92",
   "metadata": {},
   "outputs": [],
   "source": [
    "train = np.load(\"training_data.npz\")[\"data\"]\n",
    "test = np.load(\"testing.npz\")[\"data\"]\n",
    "\n",
    "newsGroup = open('newsgrouplabels.txt', 'r')\n",
    "classes = []\n",
    "for line in newsGroup:\n",
    "    nG = line.split()\n",
    "    classes.append(nG)"
   ]
  },
  {
   "cell_type": "code",
   "execution_count": 3,
   "id": "a7668cff",
   "metadata": {},
   "outputs": [],
   "source": [
    "X = train[:, 1:-1]\n",
    "Y = train[:, -1]\n",
    "test = test[:, 1:]\n",
    "\n",
    "encoder = OneHotEncoder()\n",
    "scaler = StandardScaler(with_mean=False)\n",
    "\n",
    "X = scaler.fit_transform(X)\n",
    "X = csr_matrix(X)\n",
    "test = csr_matrix(test)\n",
    "test = scaler.fit_transform(test)\n",
    "Y = encoder.fit_transform(Y.reshape(-1, 1)).toarray()\n",
    "\n",
    "xTrain, xVal, yTrain, yVal = train_test_split(X, Y, test_size=0.33, random_state=42)"
   ]
  },
  {
   "cell_type": "code",
   "execution_count": 4,
   "id": "1b60b591",
   "metadata": {},
   "outputs": [],
   "source": [
    "def crossEntropyLoss(yTrue, yPred):\n",
    "    return -np.sum(yTrue * np.log(yPred + 1e-8), axis=1).mean()\n",
    "\n",
    "def logisticRegression(xTrain, yTrain, eta, lmbda, itera, minItera=100, tol=1e-4):\n",
    "    m = xTrain.shape[0]\n",
    "    k = yTrain.shape[1]\n",
    "    n = xTrain.shape[1]\n",
    "    X = hstack([csr_matrix(np.ones((m,1))), xTrain])\n",
    "    delta = yTrain.T\n",
    "    W = np.random.normal(loc=0, scale=0.01, size=(k, n+1))\n",
    "\n",
    "    losses = []\n",
    "    prevLoss = np.inf\n",
    "\n",
    "    for iteration in tqdm(range(itera)):\n",
    "        logits = np.exp(W @ X.T - np.max(W @ X.T, axis = 0, keepdims = True))\n",
    "        probability = logits / np.sum(logits, axis=0)\n",
    "        error = (delta - probability) @ X\n",
    "        W = W + eta * (error - (lmbda * W))\n",
    "\n",
    "        loss = crossEntropyLoss(delta.T, probability.T) + (lmbda / 2) * np.sum(W**2)\n",
    "        losses.append(loss)\n",
    "\n",
    "        # check difference in loss between consecutive iterations\n",
    "        if prevLoss - loss < tol and iteration > minItera:\n",
    "            break\n",
    "        prevLoss = loss\n",
    "        \n",
    "    return W, losses"
   ]
  },
  {
   "cell_type": "code",
   "execution_count": 5,
   "id": "c539e8d7",
   "metadata": {},
   "outputs": [],
   "source": [
    "def predict(W, xTest):\n",
    "    m = xTest.shape[0]\n",
    "    X = hstack([csr_matrix(np.ones((m,1))), xTest])\n",
    "    logits = W @ X.T\n",
    "    probabilities = np.exp(logits - np.max(logits, axis=0, keepdims=True))\n",
    "    probabilities /= np.sum(probabilities, axis=0)\n",
    "    yPred = np.argmax(probabilities, axis=0)\n",
    "    return yPred"
   ]
  },
  {
   "cell_type": "code",
   "execution_count": 6,
   "id": "fcca77c2",
   "metadata": {},
   "outputs": [
    {
     "name": "stderr",
     "output_type": "stream",
     "text": [
      "  5%|██                                       | 51/1000 [00:03<00:59, 15.93it/s]\n"
     ]
    }
   ],
   "source": [
    "W, losses = logisticRegression(xTrain, yTrain, eta = 0.0001, lmbda=0.01, itera=1000, minItera= 50, tol=1e-6)"
   ]
  },
  {
   "cell_type": "code",
   "execution_count": 7,
   "id": "f607f646",
   "metadata": {},
   "outputs": [
    {
     "data": {
      "image/png": "[encoded data removed]",
      "text/plain": [
       "<Figure size 640x480 with 1 Axes>"
      ]
     },
     "metadata": {},
     "output_type": "display_data"
    }
   ],
   "source": [
    "import matplotlib.pyplot as plt\n",
    "\n",
    "# plot the loss function\n",
    "plt.plot(losses)\n",
    "plt.title(\"Loss Function over Iterations\")\n",
    "plt.xlabel(\"Iteration\")\n",
    "plt.ylabel(\"Loss\")\n",
    "plt.show()"
   ]
  },
  {
   "cell_type": "code",
   "execution_count": 8,
   "id": "20cbacfc",
   "metadata": {},
   "outputs": [
    {
     "name": "stdout",
     "output_type": "stream",
     "text": [
      "Accuracy: 0.729040404040404\n"
     ]
    }
   ],
   "source": [
    "yPred = predict(W, xVal)\n",
    "accuracy = np.mean(np.argmax(yVal, axis=1) == yPred)\n",
    "print(\"Accuracy:\", accuracy)"
   ]
  },
  {
   "cell_type": "code",
   "execution_count": null,
   "id": "62cc9ac7",
   "metadata": {},
   "outputs": [],
   "source": []
  }
 ],
 "metadata": {
  "kernelspec": {
   "display_name": "Python 3 (ipykernel)",
   "language": "python",
   "name": "python3"
  },
  "language_info": {
   "codemirror_mode": {
    "name": "ipython",
    "version": 3
   },
   "file_extension": ".py",
   "mimetype": "text/x-python",
   "name": "python",
   "nbconvert_exporter": "python",
   "pygments_lexer": "ipython3",
   "version": "3.11.0"
  }
 },
 "nbformat": 4,
 "nbformat_minor": 5
}

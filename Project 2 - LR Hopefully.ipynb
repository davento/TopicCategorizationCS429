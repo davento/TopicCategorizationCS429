{
 "cells": [
  {
   "cell_type": "code",
   "execution_count": 2,
   "id": "fcf998b9",
   "metadata": {},
   "outputs": [],
   "source": [
    "import numpy as np\n",
    "from sklearn.model_selection import train_test_split\n",
    "from sklearn.preprocessing import OneHotEncoder, normalize\n",
    "from scipy import sparse\n",
    "from scipy.sparse import hstack\n",
    "from tqdm import tqdm"
   ]
  },
  {
   "cell_type": "code",
   "execution_count": 4,
   "id": "69c5ba78",
   "metadata": {},
   "outputs": [
    {
     "name": "stderr",
     "output_type": "stream",
     "text": [
      "100%|██████████| 12000/12000 [00:59<00:00, 202.54it/s]\n"
     ]
    }
   ],
   "source": [
    "def read_sparse_dataset(dataset_name: str, *args, **kwargs) -> sparse.csr_matrix:\n",
    "    with open(dataset_name, 'r') as f:\n",
    "        num_lines = sum(1 for _ in f)\n",
    "\n",
    "    sparse_row_list = []\n",
    "    with open(dataset_name, 'r') as f:\n",
    "        for row in tqdm(f, total=num_lines):\n",
    "            data = np.fromstring(row, *args, **kwargs)\n",
    "            sparse_row = sparse.csr_matrix(data)\n",
    "            sparse_row_list.append(sparse_row)\n",
    "\n",
    "    data_matrix: sparse.csr_matrix\n",
    "    data_matrix = sparse.vstack(sparse_row_list)\n",
    "    return data_matrix\n",
    "\n",
    "Xy = read_sparse_dataset(\"training.csv\", sep=',', dtype=np.int32)"
   ]
  },
  {
   "cell_type": "code",
   "execution_count": 6,
   "id": "04669f9a",
   "metadata": {},
   "outputs": [],
   "source": [
    "aux_X = np.load(\"training_data.npz\")"
   ]
  },
  {
   "cell_type": "code",
   "execution_count": 8,
   "id": "f47e7027",
   "metadata": {},
   "outputs": [
    {
     "name": "stdout",
     "output_type": "stream",
     "text": [
      "<numpy.lib.npyio.NpzFile object at 0x7f14cc369ed0>\n"
     ]
    }
   ],
   "source": [
    "print(aux_X)"
   ]
  },
  {
   "cell_type": "code",
   "execution_count": 14,
   "id": "78fefb0d",
   "metadata": {},
   "outputs": [],
   "source": [
    "X: sparse.csr_matrix\n",
    "y: np.ndarray\n",
    "X = Xy[:, 1:-1]\n",
    "y = Xy[:, -1].toarray()"
   ]
  },
  {
   "cell_type": "code",
   "execution_count": 9,
   "id": "af863fa2",
   "metadata": {},
   "outputs": [],
   "source": [
    "# normalizing the data\n",
    "X_norm: sparse.csr_matrix\n",
    "X_norm = normalize(X)\n",
    "y_cat = OneHotEncoder().fit_transform(y)"
   ]
  },
  {
   "cell_type": "code",
   "execution_count": 1,
   "id": "bc5c4672",
   "metadata": {},
   "outputs": [
    {
     "ename": "NameError",
     "evalue": "name 'sparse' is not defined",
     "output_type": "error",
     "traceback": [
      "\u001b[0;31m---------------------------------------------------------------------------\u001b[0m",
      "\u001b[0;31mNameError\u001b[0m                                 Traceback (most recent call last)",
      "Cell \u001b[0;32mIn[1], line 1\u001b[0m\n\u001b[0;32m----> 1\u001b[0m X_train_norm: sparse\u001b[39m.\u001b[39mcsr_matrix\n\u001b[1;32m      2\u001b[0m X_test_norm: sparse\u001b[39m.\u001b[39mcsr_matrix\n\u001b[1;32m      3\u001b[0m y_train_norm: np\u001b[39m.\u001b[39mndarray\n",
      "\u001b[0;31mNameError\u001b[0m: name 'sparse' is not defined"
     ]
    }
   ],
   "source": [
    "X_train_norm: sparse.csr_matrix\n",
    "X_test_norm: sparse.csr_matrix\n",
    "y_train_norm: np.ndarray\n",
    "y_test_norm: np.ndarray\n",
    "\n",
    "X_train_norm, X_test_norm, y_train_norm, y_test_norm = train_test_split(X_norm, y_cat, test_size=0.2, random_state=42)"
   ]
  },
  {
   "cell_type": "code",
   "execution_count": 18,
   "id": "a3cd6165",
   "metadata": {},
   "outputs": [],
   "source": [
    "def cross_entropy_loss(y_true, y_pred):\n",
    "    return -np.sum(y_true * np.log(y_pred), axis=1).mean()\n",
    "\n",
    "def logisticRegression(X_train_norm, y_train_norm, eta=0.01, lmbda=0.1, itera=1000):\n",
    "    m = X_train_norm.shape[0]\n",
    "    k = y_train_norm.shape[0]\n",
    "    n = X_train_norm.shape[1]\n",
    "    X = hstack([sparse.csr_matrix(np.ones((m,1))), X_train_norm])\n",
    "    delta = y_train_norm.T\n",
    "    W = np.random.normal(loc=0, scale=0.01, size=(k, n+1))\n",
    "    \n",
    "    losses = []\n",
    "    \n",
    "    for iteration in tqdm(range(itera)):\n",
    "        logits = scipy.sparse.linalg.expm(W @ X.T)\n",
    "        probability = logits / scipy.sparse.csr_matrix.sum(logits, axis=0, keepdims=True)\n",
    "        error = (delta - probability) @ X\n",
    "        W = W + eta * (error - (lmbda * W))\n",
    "        \n",
    "        loss = cross_entropy_loss(delta.T, probability.T) + (lmbda / 2) * np.sum(W**2)\n",
    "        losses.append(loss)\n",
    "        \n",
    "    return W, losses"
   ]
  },
  {
   "cell_type": "code",
   "execution_count": 21,
   "id": "71a35435",
   "metadata": {},
   "outputs": [
    {
     "ename": "",
     "evalue": "",
     "output_type": "error",
     "traceback": [
      "\u001b[1;31mCanceled future for execute_request message before replies were done"
     ]
    },
    {
     "ename": "",
     "evalue": "",
     "output_type": "error",
     "traceback": [
      "\u001b[1;31mThe Kernel crashed while executing code in the the current cell or a previous cell. Please review the code in the cell(s) to identify a possible cause of the failure. Click <a href='https://aka.ms/vscodeJupyterKernelCrash'>here</a> for more info. View Jupyter <a href='command:jupyter.viewOutput'>log</a> for further details."
     ]
    }
   ],
   "source": [
    "W, losses = logisticRegression(X_train_norm, y_train_norm, eta=0.0000000025, lmbda=0.01, itera=10000)"
   ]
  },
  {
   "cell_type": "code",
   "execution_count": 147,
   "id": "d0e73ec7",
   "metadata": {},
   "outputs": [
    {
     "data": {
      "image/png": "[encoded data removed]",
      "text/plain": [
       "<Figure size 640x480 with 1 Axes>"
      ]
     },
     "metadata": {},
     "output_type": "display_data"
    }
   ],
   "source": [
    "import matplotlib.pyplot as plt\n",
    "\n",
    "plt.plot(losses)\n",
    "plt.xlabel('Iteration')\n",
    "plt.ylabel('Loss')\n",
    "plt.title('Loss function')\n",
    "plt.show()"
   ]
  },
  {
   "cell_type": "code",
   "execution_count": 142,
   "id": "5a2a5124",
   "metadata": {},
   "outputs": [],
   "source": [
    "def predict(W, X):\n",
    "    m = X.shape[0]\n",
    "    X = np.hstack((np.ones((m,1)), X))\n",
    "    logits = np.exp(W @ X.T)\n",
    "    probability = logits / np.sum(logits, axis=0)\n",
    "    predictions = np.argmax(probability, axis=0)\n",
    "    return predictions"
   ]
  },
  {
   "cell_type": "code",
   "execution_count": 148,
   "id": "7235055d",
   "metadata": {},
   "outputs": [
    {
     "data": {
      "text/plain": [
       "0.05580808080808081"
      ]
     },
     "execution_count": 148,
     "metadata": {},
     "output_type": "execute_result"
    }
   ],
   "source": [
    "np.mean(predict(W, xVal) == yVal)"
   ]
  },
  {
   "cell_type": "code",
   "execution_count": null,
   "id": "a7521d91",
   "metadata": {},
   "outputs": [],
   "source": []
  }
 ],
 "metadata": {
  "kernelspec": {
   "display_name": "Python 3 (ipykernel)",
   "language": "python",
   "name": "python3"
  },
  "language_info": {
   "codemirror_mode": {
    "name": "ipython",
    "version": 3
   },
   "file_extension": ".py",
   "mimetype": "text/x-python",
   "name": "python",
   "nbconvert_exporter": "python",
   "pygments_lexer": "ipython3",
   "version": "3.11.0"
  }
 },
 "nbformat": 4,
 "nbformat_minor": 5
}
